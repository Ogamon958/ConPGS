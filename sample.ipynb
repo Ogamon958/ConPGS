{
 "cells": [
  {
   "cell_type": "code",
   "execution_count": 1,
   "id": "c12724f0",
   "metadata": {},
   "outputs": [],
   "source": [
    "#setup\n",
    "import torch\n",
    "from transformers import BartTokenizer, BartForConditionalGeneration, BartConfig\n",
    "model = BartForConditionalGeneration.from_pretrained('Ogamon/cpgs_model')\n",
    "tokenizer = BartTokenizer.from_pretrained('Ogamon/cpgs_model')\n",
    "device= torch.device('cuda:0' if torch.cuda.is_available() else 'cpu')\n",
    "model.to(device)\n",
    "\n",
    "#tags\n",
    "sim_token = {70:\"<SIM70>\", 75:\"<SIM75>\",80:\"<SIM80>\",85:\"<SIM85>\",90:\"<SIM90>\",95:\"<SIM95>\"}\n",
    "bleu_token={5:\"<BLEU0_5>\",10:\"<BLEU10>\",15:\"<BLEU15>\",20:\"<BLEU20>\",25:\"<BLEU25>\",30:\"<BLEU30>\",35:\"<BLEU35>\",40:\"<BLEU40>\"}"
   ]
  },
  {
   "cell_type": "code",
   "execution_count": 2,
   "id": "13edda9a",
   "metadata": {},
   "outputs": [
    {
     "name": "stdout",
     "output_type": "stream",
     "text": [
      "The tiger sanctuary was told to hand over its 147 cats.\n"
     ]
    }
   ],
   "source": [
    "#edit here\n",
    "text = \"The tiger sanctuary has been told their 147 cats must be handed over.\"\n",
    "sim = sim_token[95] #70,75,80,85,90,95\n",
    "bleu = bleu_token[5] #5,10,15,20,25,30,35,40 \n",
    "\n",
    "\n",
    "#evaluate\n",
    "model.eval()\n",
    "with torch.no_grad():\n",
    "    input_text=f\"{sim} {bleu} {text}\"  \n",
    "    inputs = tokenizer.encode(input_text, return_tensors=\"pt\",truncation=True).to(device)\n",
    "    length=inputs.size()[1]\n",
    "    max_len=int(length*1.5)\n",
    "    min_len=int(length*0.75)       \n",
    "    \n",
    "    summary_ids = model.generate(inputs,max_length=max_len,min_length=min_len,num_beams=5)\n",
    "    summary = tokenizer.decode(summary_ids[0],skip_special_tokens=True)\n",
    "    print(summary)\n",
    "    #The tiger sanctuary was told to hand over its 147 cats."
   ]
  },
  {
   "cell_type": "code",
   "execution_count": null,
   "id": "e86347ac",
   "metadata": {},
   "outputs": [],
   "source": []
  }
 ],
 "metadata": {
  "kernelspec": {
   "display_name": "Python 3",
   "language": "python",
   "name": "python3"
  },
  "language_info": {
   "codemirror_mode": {
    "name": "ipython",
    "version": 3
   },
   "file_extension": ".py",
   "mimetype": "text/x-python",
   "name": "python",
   "nbconvert_exporter": "python",
   "pygments_lexer": "ipython3",
   "version": "3.8.8"
  }
 },
 "nbformat": 4,
 "nbformat_minor": 5
}
